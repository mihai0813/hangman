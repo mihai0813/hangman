{
 "cells": [
  {
   "cell_type": "code",
   "execution_count": 3,
   "metadata": {},
   "outputs": [],
   "source": [
    "import random\n",
    "\n",
    "class Hangman:\n",
    "\n",
    "    def __init__(self, word_list, num_lives=5):\n",
    "        self.word = random.choice(word_list)\n",
    "        self.word_guessed = ['_']*len(self.word)\n",
    "        self.num_letters = len(set(self.word))\n",
    "        self.num_lives = num_lives\n",
    "        self.word_list = word_list\n",
    "        self.list_of_guesses = []\n",
    "\n",
    "    def check_guess(self, guess):\n",
    "        self.guess = guess.lower()\n",
    "        if self.guess in self.word:\n",
    "            print(\"Good guess! {} is in the word.\".format(self.guess))\n",
    "            for i, letter in enumerate(self.word):\n",
    "                if letter == self.guess:\n",
    "                    self.word_guessed[i] = letter\n",
    "            self.num_letters -= 1\n",
    "        else:\n",
    "            self.num_lives -= 1\n",
    "            print(\"Sorry, {} is not in the word.\".format(self.guess))\n",
    "            print(\"You have {} lives left.\".format(self.num_lives))\n",
    "\n",
    "    def ask_for_input(self):\n",
    "        while True:\n",
    "            guess = input(\"Guess a letter:\", )\n",
    "            if len(guess) != 1 or guess.isalpha() != True:\n",
    "                print(\"Invalid letter. Please, enter a single alphabetical character.\")\n",
    "            elif guess in self.list_of_guesses:\n",
    "                print(\"You already tried that letter!.\")\n",
    "            else:\n",
    "                self.check_guess(guess)\n",
    "                self.list_of_guesses.append(guess)\n",
    "                print(self.word_guessed)\n",
    "            break\n",
    "\n",
    "def play_game(word_list):\n",
    "    num_lives = 5\n",
    "    game = Hangman(word_list, num_lives)\n",
    "    while True:\n",
    "        if game.num_lives == 0:\n",
    "            print(\"You lost!\")\n",
    "            break\n",
    "        elif game.num_letters > 0:\n",
    "            game.ask_for_input()\n",
    "        else:\n",
    "            print(\"Congratulations. You won the game.\")\n",
    "            break\n"
   ]
  },
  {
   "cell_type": "code",
   "execution_count": 4,
   "metadata": {},
   "outputs": [
    {
     "name": "stdout",
     "output_type": "stream",
     "text": [
      "Good guess! h is in the word.\n",
      "Good guess! e is in the word.\n",
      "You already tried that letter!.\n",
      "Sorry, k is not in the word.\n",
      "You have 4 lives left.\n",
      "Good guess! l is in the word.\n",
      "Good guess! o is in the word.\n",
      "Congratulations. You won the game.\n"
     ]
    }
   ],
   "source": [
    "play_game([\"hello\", \"mihai\"])"
   ]
  }
 ],
 "metadata": {
  "kernelspec": {
   "display_name": "Python 3",
   "language": "python",
   "name": "python3"
  },
  "language_info": {
   "codemirror_mode": {
    "name": "ipython",
    "version": 3
   },
   "file_extension": ".py",
   "mimetype": "text/x-python",
   "name": "python",
   "nbconvert_exporter": "python",
   "pygments_lexer": "ipython3",
   "version": "3.11.4"
  }
 },
 "nbformat": 4,
 "nbformat_minor": 2
}
